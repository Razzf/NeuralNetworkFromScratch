{
  "nbformat": 4,
  "nbformat_minor": 0,
  "metadata": {
    "colab": {
      "name": "NeuralNetworkFscratch.ipynb",
      "provenance": [],
      "collapsed_sections": [],
      "authorship_tag": "ABX9TyPnbwCzMvU3gQM2/kFe6VHZ",
      "include_colab_link": true
    },
    "kernelspec": {
      "name": "python3",
      "display_name": "Python 3"
    }
  },
  "cells": [
    {
      "cell_type": "markdown",
      "metadata": {
        "id": "view-in-github",
        "colab_type": "text"
      },
      "source": [
        "<a href=\"https://colab.research.google.com/github/Razzf/NeuralNetworkFromScratch/blob/master/NeuralNetworkFscratch.ipynb\" target=\"_parent\"><img src=\"https://colab.research.google.com/assets/colab-badge.svg\" alt=\"Open In Colab\"/></a>"
      ]
    },
    {
      "cell_type": "code",
      "metadata": {
        "id": "w7A9eOxZw3oF",
        "colab_type": "code",
        "colab": {}
      },
      "source": [
        "import numpy as np\n",
        "import matplotlib.pyplot as plt\n",
        "import sympy as sp\n",
        "\n",
        "\n",
        "from sklearn.datasets import make_circles"
      ],
      "execution_count": 66,
      "outputs": []
    },
    {
      "cell_type": "code",
      "metadata": {
        "id": "p9hSz6AXolEg",
        "colab_type": "code",
        "colab": {}
      },
      "source": [
        "n = 500\n",
        "p = 2\n",
        "\n",
        "X, y = make_circles(n_samples=n, factor=0.5, noise=0.06)\n",
        "y = y[:, np.newaxis]"
      ],
      "execution_count": 67,
      "outputs": []
    },
    {
      "cell_type": "code",
      "metadata": {
        "id": "cxNn5Y75o6CM",
        "colab_type": "code",
        "colab": {}
      },
      "source": [
        "plt.scatter(X[y[:, 0] == 0, 0], X[y[:, 0] == 0, 1], c='red')\n",
        "plt.scatter(X[y[:, 0] == 1, 0], X[y[:, 0] == 1, 1], c='blue')\n",
        "plt.axis('equal')\n",
        "plt.show()"
      ],
      "execution_count": 68,
      "outputs": []
    },
    {
      "cell_type": "code",
      "metadata": {
        "id": "Ae27h_20iedY",
        "colab_type": "code",
        "colab": {}
      },
      "source": [
        "class Dense():\n",
        "  def __init__(self, n_inputs, n_neurons, activation):\n",
        "\n",
        "    self.act = activation\n",
        "    self.biases = np.random.rand(1, n_neurons) * 2 - 1\n",
        "    self.weights = np.random.rand(n_inputs, n_neurons) * 2 -1"
      ],
      "execution_count": 69,
      "outputs": []
    },
    {
      "cell_type": "code",
      "metadata": {
        "id": "gG6DVaHgFmHb",
        "colab_type": "code",
        "colab": {}
      },
      "source": [
        "class Funky():\n",
        "  def __init__(self, function, vars):\n",
        "    self.func = lambdify(vars, function)\n",
        "    derivative = sp.diff(function, vars)\n",
        "    self.prime = lambdify(vars, derivative)"
      ],
      "execution_count": 70,
      "outputs": []
    },
    {
      "cell_type": "code",
      "metadata": {
        "id": "zHxuEhY7q8TR",
        "colab_type": "code",
        "colab": {}
      },
      "source": [
        "x = sp.Symbol('x')\n",
        "sig_expression = 1 / (1 + sp.exp(-x))\n",
        "sigmoid = Funky(sig_expression, x)\n",
        "\n",
        "_x = np.linspace(-5, 5, 100)\n",
        "plt.plot(_x, sigmoid.func(_x))\n",
        "plt.show()\n"
      ],
      "execution_count": null,
      "outputs": []
    },
    {
      "cell_type": "code",
      "metadata": {
        "id": "YiahUNvSH7O5",
        "colab_type": "code",
        "colab": {}
      },
      "source": [
        "def create_nn(topology, act_f):\n",
        "\n",
        "  nn = []\n",
        "\n",
        "  for il, layer in enumerate(topology[:-1]):\n",
        "    nn.append(Dense(topology[il], topology[il + 1], act_f))\n",
        "  return nn\n"
      ],
      "execution_count": 81,
      "outputs": []
    },
    {
      "cell_type": "code",
      "metadata": {
        "id": "MQt7Bkj3pIFZ",
        "colab_type": "code",
        "colab": {}
      },
      "source": [
        "topology = [p, 8, 4, 1]\n",
        "\n",
        "network = create_nn(topology, sigmoid)\n",
        "\n",
        "mse = (lambda Yp, Yr: np.mean((Yp - Yr) ** 2),\n",
        "       lambda Yp, Yr: (Yp - Yr))\n",
        "\n",
        "def train(nn, x, y, loss_f, lr=0.5, train=True):\n",
        "\n",
        "  out = [(None, X)]\n",
        "  for i in range(len(nn)):\n",
        "    z = np.dot(out[-1][1], nn[i].weights) + nn[i].biases\n",
        "    a = nn[i].act.func(z)\n",
        "    out.append((z, a))\n",
        "\n",
        "  if train:\n",
        "    deltas = []\n",
        "    for i in reversed(range(len(nn))):\n",
        "\n",
        "      z = out[i + 1][0]\n",
        "      a = out[i + 1][1]\n",
        "\n",
        "      if i == len(nn) - 1:\n",
        "        deltas.insert(0, loss_f[1](a, y) * nn[i].act.prime(a))\n",
        "      else:\n",
        "        deltas.insert(0, np.dot(deltas[0], _w.T) * nn[i + 1].act.prime(a))\n",
        "      \n",
        "      _w = nn[i].weights\n",
        "\n",
        "      #gradient\n",
        "\n",
        "      nn[i].biases = nn[i].biases - np.mean(deltas[0], axis= 0, keepdims=True) *lr\n",
        "      nn[i].weights = nn[i].weights - out[i][1].T @ deltas[0] * lr\n",
        "\n",
        "  return out[-1][1]"
      ],
      "execution_count": null,
      "outputs": []
    },
    {
      "cell_type": "code",
      "metadata": {
        "id": "vNHhvmSl6m5r",
        "colab_type": "code",
        "colab": {
          "base_uri": "https://localhost:8080/",
          "height": 704
        },
        "outputId": "20c489df-6ed2-43bd-95d8-dba0ade9cb4d"
      },
      "source": [
        "import time\n",
        "from IPython.display import clear_output\n",
        "\n",
        "n_net = create_nn(topology, sigmoid)\n",
        "\n",
        "loss = []\n",
        "\n",
        "for i in range(25):\n",
        "\n",
        "  py = train(n_net, X, y, mse) # prediction y\n",
        "\n",
        "  if i % 25 == 0:\n",
        "\n",
        "    loss.append(mse[0](py, y))\n",
        "\n",
        "    res = 50\n",
        "\n",
        "    _x0 = np.linspace(-1.5, 1.5, res)\n",
        "    _x1 = np.linspace(-1.5, 1.5, res)\n",
        "\n",
        "    _y = np.zeros((res, res))\n",
        "\n",
        "    for i0, x0 in enumerate(_x0):\n",
        "      for i1, x1 in enumerate(_x1):\n",
        "        _y[i0, i1] = train(n_net, np.array([[_x0, _x1]]), y, mse, train=False)[0][0]\n",
        "    \n",
        "    \n",
        "    \n",
        "    plt.pcolormesh(_x0, _x1, _y, cmap='coolwarm')\n",
        "    plt.axis('equal')\n",
        "\n",
        "    plt.scatter(X[y[:, 0] == 0, 0], X[y[:, 0] == 0, 1], c='skyblue')\n",
        "    plt.scatter(X[y[:, 0] == 1, 0], X[y[:, 0] == 1, 1], c='salmon')\n",
        "\n",
        "    clear_output(wait=True)\n",
        "    plt.show()\n",
        "    plt.plot(range(len(loss)), loss)\n",
        "    plt.show()\n",
        "    time.sleep(0.2)\n",
        "    print(_y[:, 10])\n",
        "  "
      ],
      "execution_count": 118,
      "outputs": [
        {
          "output_type": "display_data",
          "data": {
            "image/png": "[encoded data removed]",
            "text/plain": [
              "<Figure size 432x288 with 1 Axes>"
            ]
          },
          "metadata": {
            "tags": [],
            "needs_background": "light"
          }
        },
        {
          "output_type": "display_data",
          "data": {
            "image/png": "[encoded data removed]",
            "text/plain": [
              "<Figure size 432x288 with 1 Axes>"
            ]
          },
          "metadata": {
            "tags": [],
            "needs_background": "light"
          }
        },
        {
          "output_type": "stream",
          "text": [
            "[0.99178642 0.99178642 0.99178642 0.99178642 0.99178642 0.99178642\n",
            " 0.99178642 0.99178642 0.99178642 0.99178642 0.99178642 0.99178642\n",
            " 0.99178642 0.99178642 0.99178642 0.99178642 0.99178642 0.99178642\n",
            " 0.99178642 0.99178642 0.99178642 0.99178642 0.99178642 0.99178642\n",
            " 0.99178642 0.99178642 0.99178642 0.99178642 0.99178642 0.99178642\n",
            " 0.99178642 0.99178642 0.99178642 0.99178642 0.99178642 0.99178642\n",
            " 0.99178642 0.99178642 0.99178642 0.99178642 0.99178642 0.99178642\n",
            " 0.99178642 0.99178642 0.99178642 0.99178642 0.99178642 0.99178642\n",
            " 0.99178642 0.99178642]\n"
          ],
          "name": "stdout"
        },
        {
          "output_type": "stream",
          "text": [
            "/usr/local/lib/python3.6/dist-packages/numpy/__init__.py:1: RuntimeWarning: overflow encountered in exp\n",
            "  \"\"\"\n"
          ],
          "name": "stderr"
        }
      ]
    }
  ]
}