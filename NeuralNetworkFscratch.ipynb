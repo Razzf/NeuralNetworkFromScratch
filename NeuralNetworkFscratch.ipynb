{
  "nbformat": 4,
  "nbformat_minor": 0,
  "metadata": {
    "colab": {
      "name": "NeuralNetworkFscratch.ipynb",
      "provenance": [],
      "collapsed_sections": [],
      "authorship_tag": "ABX9TyNFiE/YYIBaduJpRDSlfzfp",
      "include_colab_link": true
    },
    "kernelspec": {
      "name": "python3",
      "display_name": "Python 3"
    }
  },
  "cells": [
    {
      "cell_type": "markdown",
      "metadata": {
        "id": "view-in-github",
        "colab_type": "text"
      },
      "source": [
        "<a href=\"https://colab.research.google.com/github/Razzf/NeuralNetworkFromScratch/blob/master/NeuralNetworkFscratch.ipynb\" target=\"_parent\"><img src=\"https://colab.research.google.com/assets/colab-badge.svg\" alt=\"Open In Colab\"/></a>"
      ]
    },
    {
      "cell_type": "code",
      "metadata": {
        "id": "w7A9eOxZw3oF",
        "colab_type": "code",
        "colab": {}
      },
      "source": [
        "import numpy as np\n",
        "import matplotlib.pyplot as plt\n",
        "import sympy as sp\n",
        "from sympy.utilities.lambdify import lambdify, implemented_function\n",
        "\n",
        "\n",
        "from sklearn.datasets import make_circles"
      ],
      "execution_count": 208,
      "outputs": []
    },
    {
      "cell_type": "code",
      "metadata": {
        "id": "p9hSz6AXolEg",
        "colab_type": "code",
        "colab": {}
      },
      "source": [
        "n = 500\n",
        "p = 2\n",
        "\n",
        "X, y = make_circles(n_samples=n, factor=0.5, noise=0.06)"
      ],
      "execution_count": 209,
      "outputs": []
    },
    {
      "cell_type": "code",
      "metadata": {
        "id": "cxNn5Y75o6CM",
        "colab_type": "code",
        "colab": {
          "base_uri": "https://localhost:8080/",
          "height": 264
        },
        "outputId": "1dbfb080-558f-4ddc-8411-404e58985718"
      },
      "source": [
        "plt.scatter(X[y == 0, 0], X[y == 0, 1], c='red')\n",
        "plt.scatter(X[y == 1, 0], X[y == 1, 1], c='blue')\n",
        "\n",
        "plt.axis('equal')\n",
        "plt.show()"
      ],
      "execution_count": 210,
      "outputs": [
        {
          "output_type": "display_data",
          "data": {
            "image/png": "[encoded data removed]",
            "text/plain": [
              "<Figure size 432x288 with 1 Axes>"
            ]
          },
          "metadata": {
            "tags": [],
            "needs_background": "light"
          }
        }
      ]
    },
    {
      "cell_type": "code",
      "metadata": {
        "id": "Ae27h_20iedY",
        "colab_type": "code",
        "colab": {}
      },
      "source": [
        "class Dense():\n",
        "  def __init__(self, n_inputs, n_neurons, activation):\n",
        "\n",
        "    self.act = activation\n",
        "    self.biases = np.random.rand(1, n_neurons) * 2 - 1\n",
        "    self.weights = np.random.rand(n_inputs, n_neurons) * 2 -1"
      ],
      "execution_count": 211,
      "outputs": []
    },
    {
      "cell_type": "code",
      "metadata": {
        "id": "gG6DVaHgFmHb",
        "colab_type": "code",
        "colab": {}
      },
      "source": [
        "class Funky():\n",
        "  def __init__(self, function, vars):\n",
        "    args = sp.symbols(vars)\n",
        "    self.func = lambdify(args, function)\n",
        "    derivative = sp.diff(function, args)\n",
        "    self.prime = lambdify(args, derivative)"
      ],
      "execution_count": 212,
      "outputs": []
    },
    {
      "cell_type": "code",
      "metadata": {
        "id": "zHxuEhY7q8TR",
        "colab_type": "code",
        "colab": {
          "base_uri": "https://localhost:8080/",
          "height": 264
        },
        "outputId": "bcdaa70a-e7ca-4f33-c42d-5d613bad247f"
      },
      "source": [
        "sig_expression = 1 / (1 + sp.exp(-x))\n",
        "sigmoid = Funky(sig_expression, 'x')\n",
        "\n",
        "_x = np.linspace(-5, 5, 100)\n",
        "plt.plot(_x, sigmoid.func(_x))\n",
        "plt.show()\n"
      ],
      "execution_count": 213,
      "outputs": [
        {
          "output_type": "display_data",
          "data": {
            "image/png": "[encoded data removed]",
            "text/plain": [
              "<Figure size 432x288 with 1 Axes>"
            ]
          },
          "metadata": {
            "tags": [],
            "needs_background": "light"
          }
        }
      ]
    },
    {
      "cell_type": "code",
      "metadata": {
        "id": "YiahUNvSH7O5",
        "colab_type": "code",
        "colab": {}
      },
      "source": [
        "def create_nn(topology, act_f):\n",
        "\n",
        "  nn = []\n",
        "\n",
        "  for il, layer in enumerate(topology[:-1]):\n",
        "    nn.append(Dense(topology[il], topology[il + 1], act_f))\n",
        "  return nn\n"
      ],
      "execution_count": 214,
      "outputs": []
    },
    {
      "cell_type": "code",
      "metadata": {
        "id": "MQt7Bkj3pIFZ",
        "colab_type": "code",
        "colab": {
          "base_uri": "https://localhost:8080/",
          "height": 34
        },
        "outputId": "ec0e15c4-4674-409b-cf65-f3682c14e6ed"
      },
      "source": [
        "topology = [p, 8, 4, 1]\n",
        "\n",
        "network = create_nn(topology, sigmoid)\n",
        "\n",
        "mse = (lambda Yp, Yr: np.mean((Yp - Yr) ** 2),\n",
        "       lambda Yp, Yr: (Yp - Yr))\n",
        "\n",
        "def train(nn, x, y, loss_f, lr=0.5):\n",
        "\n",
        "  out = [(None), X]\n",
        "  for i in range(len(nn)):\n",
        "    z = np.dot(out[-1][1], nn[i].weights) + nn[i].biases\n",
        "    a = nn[i].act.func(z)\n",
        "    out.append((z, a))\n",
        "  print(out[-1][1])\n",
        "\n",
        "train(network, X, y, mse)"
      ],
      "execution_count": 215,
      "outputs": [
        {
          "output_type": "stream",
          "text": [
            "[[0.47489025]]\n"
          ],
          "name": "stdout"
        }
      ]
    }
  ]
}