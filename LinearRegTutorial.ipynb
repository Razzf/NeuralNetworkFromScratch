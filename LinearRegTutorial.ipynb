{
  "nbformat": 4,
  "nbformat_minor": 0,
  "metadata": {
    "colab": {
      "name": "LinearRegTutorial.ipynb",
      "provenance": [],
      "collapsed_sections": [],
      "authorship_tag": "ABX9TyNBv/he6bQsFha7He5A6ZmE",
      "include_colab_link": true
    },
    "kernelspec": {
      "name": "python3",
      "display_name": "Python 3"
    }
  },
  "cells": [
    {
      "cell_type": "markdown",
      "metadata": {
        "id": "view-in-github",
        "colab_type": "text"
      },
      "source": [
        "<a href=\"https://colab.research.google.com/github/Razzf/NeuralNetworkFromScratch/blob/master/LinearRegTutorial.ipynb\" target=\"_parent\"><img src=\"https://colab.research.google.com/assets/colab-badge.svg\" alt=\"Open In Colab\"/></a>"
      ]
    },
    {
      "cell_type": "code",
      "metadata": {
        "id": "GOhCu1o2jIeM",
        "colab_type": "code",
        "colab": {}
      },
      "source": [
        "from sklearn import linear_model, datasets\n",
        "import matplotlib.pyplot as plt\n",
        "import numpy as np\n",
        "import sklearn\n",
        "import pickle\n"
      ],
      "execution_count": 0,
      "outputs": []
    },
    {
      "cell_type": "code",
      "metadata": {
        "id": "GIS6J0Qgj_b8",
        "colab_type": "code",
        "colab": {
          "base_uri": "https://localhost:8080/",
          "height": 34
        },
        "outputId": "baf1945d-69ae-4d28-b320-70fc5203b73b"
      },
      "source": [
        "data = datasets.load_diabetes()\n",
        "print(data.feature_names)\n",
        "diabetes_X, diabetes_y = datasets.load_diabetes(return_X_y=True)\n",
        "diabetes_X = np.delete(diabetes_X, 4, axis= 1)\n",
        "#diabetes_X = np.delete(diabetes_X, 0, axis= 1)\n"
      ],
      "execution_count": 365,
      "outputs": [
        {
          "output_type": "stream",
          "text": [
            "['age', 'sex', 'bmi', 'bp', 's1', 's2', 's3', 's4', 's5', 's6']\n"
          ],
          "name": "stdout"
        }
      ]
    },
    {
      "cell_type": "code",
      "metadata": {
        "id": "APBUwI55HTML",
        "colab_type": "code",
        "colab": {
          "base_uri": "https://localhost:8080/",
          "height": 34
        },
        "outputId": "e65b015f-81ce-4cd5-823b-fe984dff046f"
      },
      "source": [
        "x_train, x_test, y_train, y_test = sklearn.model_selection.train_test_split(diabetes_X, diabetes_y, test_size=.05)\n",
        "linear_reg = linear_model.LinearRegression()\n",
        "linear_reg.fit(x_train, y_train)\n",
        "acc = linear_reg.score(x_test, y_test)\n",
        "print(acc)\n",
        "\n",
        "with open(\"diabetesmodel.pickle\", \"wb\") as f:\n",
        "  pickle.dump(linear_reg, f)"
      ],
      "execution_count": 362,
      "outputs": [
        {
          "output_type": "stream",
          "text": [
            "0.3458038935963007\n"
          ],
          "name": "stdout"
        }
      ]
    },
    {
      "cell_type": "code",
      "metadata": {
        "id": "lp032gnlZodf",
        "colab_type": "code",
        "colab": {
          "base_uri": "https://localhost:8080/",
          "height": 141
        },
        "outputId": "fef9600a-555d-473c-8fcb-25d5223f245a"
      },
      "source": [
        "best_acc = 0\n",
        "for _ in range(10000):\n",
        "  x_train, x_test, y_train, y_test = sklearn.model_selection.train_test_split(diabetes_X, diabetes_y, test_size=.05)\n",
        "  linear_reg = linear_model.LinearRegression()\n",
        "  linear_reg.fit(x_train, y_train)\n",
        "  acc = linear_reg.score(x_test, y_test)\n",
        "  \n",
        "  if acc > best_acc:\n",
        "    best_acc = acc\n",
        "    print(\"Accuracy: \", acc)\n",
        "    with open(\"diabetesmodel.pickle\", \"wb\") as f:\n",
        "      pickle.dump(linear_reg, f)"
      ],
      "execution_count": 366,
      "outputs": [
        {
          "output_type": "stream",
          "text": [
            "Accuracy:  0.3152905871001792\n",
            "Accuracy:  0.6384724621384108\n",
            "Accuracy:  0.7391148143442563\n",
            "Accuracy:  0.7437987214649371\n",
            "Accuracy:  0.7989299367655037\n",
            "Accuracy:  0.8003301881466236\n",
            "Accuracy:  0.8436846586073322\n"
          ],
          "name": "stdout"
        }
      ]
    },
    {
      "cell_type": "code",
      "metadata": {
        "id": "IgKZop-ZKRU-",
        "colab_type": "code",
        "colab": {}
      },
      "source": [
        "predictions = linear_reg.predict(x_test)\n"
      ],
      "execution_count": 0,
      "outputs": []
    },
    {
      "cell_type": "code",
      "metadata": {
        "id": "N056i4o5KW3J",
        "colab_type": "code",
        "colab": {
          "base_uri": "https://localhost:8080/",
          "height": 425
        },
        "outputId": "fba49aef-8471-4a89-920e-686a274a221c"
      },
      "source": [
        "for i in range(len(predictions)):\n",
        "  print(\"Actual: \", y_test[i], \"Prediction: \", predictions[i])\n"
      ],
      "execution_count": 369,
      "outputs": [
        {
          "output_type": "stream",
          "text": [
            "Actual:  277.0 Prediction:  265.8712236529062\n",
            "Actual:  259.0 Prediction:  153.74306687512197\n",
            "Actual:  128.0 Prediction:  167.39452346602468\n",
            "Actual:  230.0 Prediction:  293.2794258822445\n",
            "Actual:  127.0 Prediction:  121.44648618318976\n",
            "Actual:  196.0 Prediction:  169.18962363263876\n",
            "Actual:  97.0 Prediction:  121.90712094288095\n",
            "Actual:  164.0 Prediction:  187.70311178339597\n",
            "Actual:  70.0 Prediction:  179.6374245098635\n",
            "Actual:  242.0 Prediction:  257.69082870335023\n",
            "Actual:  175.0 Prediction:  188.83728026184946\n",
            "Actual:  68.0 Prediction:  118.16955377845936\n",
            "Actual:  68.0 Prediction:  121.52094394454886\n",
            "Actual:  237.0 Prediction:  155.95721392659533\n",
            "Actual:  140.0 Prediction:  181.18230188564812\n",
            "Actual:  104.0 Prediction:  160.50909901143118\n",
            "Actual:  128.0 Prediction:  101.88818668030987\n",
            "Actual:  197.0 Prediction:  148.2844392670817\n",
            "Actual:  158.0 Prediction:  96.21585345426664\n",
            "Actual:  129.0 Prediction:  187.29842220498756\n",
            "Actual:  95.0 Prediction:  162.3846339593194\n",
            "Actual:  178.0 Prediction:  165.96461487595568\n",
            "Actual:  63.0 Prediction:  61.34363184683329\n"
          ],
          "name": "stdout"
        }
      ]
    },
    {
      "cell_type": "code",
      "metadata": {
        "id": "gDK3Z6tnKZWh",
        "colab_type": "code",
        "colab": {
          "base_uri": "https://localhost:8080/",
          "height": 264
        },
        "outputId": "0a1531fe-c2ee-4966-c210-aafa44720855"
      },
      "source": [
        "\n",
        "plt.scatter(diabetes_X[:, np.newaxis, 0], diabetes_y)\n",
        "plt.show()"
      ],
      "execution_count": 343,
      "outputs": [
        {
          "output_type": "display_data",
          "data": {
            "image/png": "[encoded data removed]",
            "text/plain": [
              "<Figure size 432x288 with 1 Axes>"
            ]
          },
          "metadata": {
            "tags": [],
            "needs_background": "light"
          }
        }
      ]
    },
    {
      "cell_type": "code",
      "metadata": {
        "id": "r_7fO_lYKa0I",
        "colab_type": "code",
        "colab": {}
      },
      "source": [
        ""
      ],
      "execution_count": 0,
      "outputs": []
    }
  ]
}