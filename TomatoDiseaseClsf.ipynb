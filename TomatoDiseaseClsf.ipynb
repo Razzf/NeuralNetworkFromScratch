{
  "nbformat": 4,
  "nbformat_minor": 0,
  "metadata": {
    "colab": {
      "name": "TomatoDiseaseClsf.ipynb",
      "provenance": [],
      "collapsed_sections": [],
      "mount_file_id": "1rUdPILX_XXxIeqYBVKbsd3rz1nT50lhJ",
      "authorship_tag": "ABX9TyMcMVxEnxO3tS+jtxVjUlDS",
      "include_colab_link": true
    },
    "kernelspec": {
      "name": "python3",
      "display_name": "Python 3"
    }
  },
  "cells": [
    {
      "cell_type": "markdown",
      "metadata": {
        "id": "view-in-github",
        "colab_type": "text"
      },
      "source": [
        "<a href=\"https://colab.research.google.com/github/Razzf/NeuralNetworkFromScratch/blob/master/TomatoDiseaseClsf.ipynb\" target=\"_parent\"><img src=\"https://colab.research.google.com/assets/colab-badge.svg\" alt=\"Open In Colab\"/></a>"
      ]
    },
    {
      "cell_type": "code",
      "metadata": {
        "id": "avV-Mv7kxyZ4",
        "colab_type": "code",
        "colab": {}
      },
      "source": [
        "import numpy as np\n",
        "import matplotlib.pyplot as plt\n",
        "import os\n",
        "import cv2\n",
        "import random"
      ],
      "execution_count": 0,
      "outputs": []
    },
    {
      "cell_type": "code",
      "metadata": {
        "id": "nbYzV5Dsyv_b",
        "colab_type": "code",
        "colab": {}
      },
      "source": [
        "DATADIR = \"/content/drive/My Drive/Tomato classifier/Tomato-data\"\n",
        "CATEGORIES = ['Bacterial_Spot', 'Early_Blight', 'Healthy',\n",
        "              'Late_Blight', 'Leaf_Mold', 'Septoria_Leaf_Spot',\n",
        "              'Target_Spot', 'Two-Spotted_Spider_Mite',\n",
        "              'Vosaic_Virus', 'YellowLeaf__Curl_Virus']"
      ],
      "execution_count": 0,
      "outputs": []
    },
    {
      "cell_type": "code",
      "metadata": {
        "id": "QKGCIXiz6QaV",
        "colab_type": "code",
        "colab": {}
      },
      "source": [
        "'''\n",
        "for category in CATEGORIES:\n",
        "  path = os.path.join(DATADIR, category)\n",
        "  images = list(os.listdir(path))\n",
        "  random.shuffle(images)\n",
        "  images = np.array(images)\n",
        "  for img in images:\n",
        "    img_path = os.path.join(path, img)\n",
        "    print(img_path)\n",
        "    img_array = cv2.imread(img_path, 0)\n",
        "    img_array = cv2.cvtColor(img_array, cv2.COLOR_BGR2GRAY)\n",
        "    print(type(img_array))\n",
        "    img_array = img_array/255.0\n",
        "    print(img_array)\n",
        "    ret, img_array = cv2.threshold(img_array, 10, 255, cv2.THRESH_BINARY_INV + cv2.THRESH_OTSU)\n",
        "    plt.imshow(img_array, cmap='gray')\n",
        "    plt.show()\n",
        "    break\n",
        "  break\n",
        "  '''\n",
        "\n"
      ],
      "execution_count": 0,
      "outputs": []
    },
    {
      "cell_type": "code",
      "metadata": {
        "id": "0bBhOzsGUxsz",
        "colab_type": "code",
        "colab": {}
      },
      "source": [
        "category = CATEGORIES[0]\n",
        "path = os.path.join(DATADIR, category)\n",
        "images = list(os.listdir(path))\n",
        "random.shuffle(images)\n",
        "images = np.array(images)\n",
        "img_path = os.path.join(path, images[0])"
      ],
      "execution_count": 0,
      "outputs": []
    },
    {
      "cell_type": "code",
      "metadata": {
        "id": "QqSZy6I7T6TT",
        "colab_type": "code",
        "colab": {}
      },
      "source": [
        "category = CATEGORIES[random.randint(0, len(CATEGORIES) - 1)]\n",
        "path = os.path.join(DATADIR, category)\n",
        "images = list(os.listdir(path))\n",
        "random.shuffle(images)\n",
        "images = np.array(images)\n",
        "img_path = os.path.join(path, images[random.randint(0, len(images) - 1)])"
      ],
      "execution_count": 0,
      "outputs": []
    },
    {
      "cell_type": "code",
      "metadata": {
        "id": "IQlvST5cSzhh",
        "colab_type": "code",
        "colab": {
          "base_uri": "https://localhost:8080/",
          "height": 214
        },
        "outputId": "0546064b-9b30-4feb-a4aa-05897c58e3b0"
      },
      "source": [
        "\n",
        "img_array = cv2.imread(img_path, 1)\n",
        "img_array = cv2.cvtColor(img_array, cv2.COLOR_BGR2Lab)\n",
        "img_array = img_array/255.0\n",
        "#ret, img_array = cv2.threshold(img_array, 10, 255, cv2.THRESH_BINARY_INV + cv2.THRESH_OTSU)\n",
        "plt.imshow(img_array, cmap='binary')\n",
        "plt.show()"
      ],
      "execution_count": 22,
      "outputs": [
        {
          "output_type": "error",
          "ename": "NameError",
          "evalue": "ignored",
          "traceback": [
            "\u001b[0;31m---------------------------------------------------------------------------\u001b[0m",
            "\u001b[0;31mNameError\u001b[0m                                 Traceback (most recent call last)",
            "\u001b[0;32m<ipython-input-22-95a75ea0c020>\u001b[0m in \u001b[0;36m<module>\u001b[0;34m()\u001b[0m\n\u001b[1;32m      4\u001b[0m \u001b[0mimg_array\u001b[0m \u001b[0;34m=\u001b[0m \u001b[0mimg_array\u001b[0m\u001b[0;34m/\u001b[0m\u001b[0;36m255.0\u001b[0m\u001b[0;34m\u001b[0m\u001b[0;34m\u001b[0m\u001b[0m\n\u001b[1;32m      5\u001b[0m \u001b[0;31m#ret, img_array = cv2.threshold(img_array, 10, 255, cv2.THRESH_BINARY_INV + cv2.THRESH_OTSU)\u001b[0m\u001b[0;34m\u001b[0m\u001b[0;34m\u001b[0m\u001b[0;34m\u001b[0m\u001b[0m\n\u001b[0;32m----> 6\u001b[0;31m \u001b[0mplt\u001b[0m\u001b[0;34m.\u001b[0m\u001b[0mimshow\u001b[0m\u001b[0;34m(\u001b[0m\u001b[0mimg_array\u001b[0m\u001b[0;34m[\u001b[0m\u001b[0mx\u001b[0m\u001b[0;34m]\u001b[0m\u001b[0;34m,\u001b[0m \u001b[0mcmap\u001b[0m\u001b[0;34m=\u001b[0m\u001b[0;34m'binary'\u001b[0m\u001b[0;34m)\u001b[0m\u001b[0;34m\u001b[0m\u001b[0;34m\u001b[0m\u001b[0m\n\u001b[0m\u001b[1;32m      7\u001b[0m \u001b[0mplt\u001b[0m\u001b[0;34m.\u001b[0m\u001b[0mshow\u001b[0m\u001b[0;34m(\u001b[0m\u001b[0;34m)\u001b[0m\u001b[0;34m\u001b[0m\u001b[0;34m\u001b[0m\u001b[0m\n",
            "\u001b[0;31mNameError\u001b[0m: name 'x' is not defined"
          ]
        }
      ]
    },
    {
      "cell_type": "code",
      "metadata": {
        "id": "rhNwonqki7Gn",
        "colab_type": "code",
        "colab": {}
      },
      "source": [
        "ret, img_array = cv2.threshold(img_array, 1, 255, cv2.THRESH_BINARY_INV + cv2.THRESH_OTSU)\n",
        "plt.imshow(img_array, cmap='binary_r')\n",
        "plt.show()"
      ],
      "execution_count": 0,
      "outputs": []
    }
  ]
}